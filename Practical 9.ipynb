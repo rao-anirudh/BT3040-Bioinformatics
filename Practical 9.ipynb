{
 "cells": [
  {
   "cell_type": "code",
   "execution_count": 1,
   "id": "b325184e",
   "metadata": {},
   "outputs": [
    {
     "name": "stdout",
     "output_type": "stream",
     "text": [
      "         Hamming Distance  Euclidean Distance\n",
      "1 and 2         66.572848           20.106217\n",
      "1 and 3         84.335443           22.086817\n",
      "2 and 3         72.663258           20.112952\n",
      "\n",
      "Based on Hamming distance, sequences 1 and 2 are the closest.\n",
      "Based on Euclidean distance, sequences 1 and 2 are the closest.\n"
     ]
    }
   ],
   "source": [
    "import pandas as pd\n",
    "\n",
    "\n",
    "residues = [\"G\", \"A\", \"V\", \"L\", \"I\", \"P\", \"F\", \"Y\", \"W\", \"S\", \"T\", \"C\", \"M\", \"N\", \"Q\", \"D\", \"E\", \"K\", \"R\", \"H\"]\n",
    "\n",
    "\n",
    "def composition(sequence):\n",
    "    \n",
    "    composition = {residue:100*sequence.count(residue)/len(sequence) for residue in residues}\n",
    "    \n",
    "    return composition\n",
    "\n",
    "\n",
    "def hamming(sequence1,sequence2):\n",
    "    \n",
    "    comp1 = composition(sequence1)\n",
    "    comp2 = composition(sequence2)\n",
    "    \n",
    "    ham_dist = 0\n",
    "    \n",
    "    for residue in residues:\n",
    "        ham_dist += abs(comp1[residue]-comp2[residue])\n",
    "       \n",
    "    return ham_dist\n",
    "    \n",
    "\n",
    "def euclidean(sequence1,sequence2):\n",
    "    \n",
    "    comp1 = composition(sequence1)\n",
    "    comp2 = composition(sequence2)\n",
    "    \n",
    "    euc_dist = 0\n",
    "    \n",
    "    for residue in residues:\n",
    "        euc_dist += (comp1[residue]-comp2[residue])**2\n",
    "    \n",
    "    euc_dist = euc_dist**0.5\n",
    "    \n",
    "    return euc_dist\n",
    "\n",
    "\n",
    "seq1 = \"AMENLNMDLLYMAAAVMMGLAAIGAAIGIGILGGKFLEGAARQPDLIPLLRTQFFIVMGLVDAIPMIAVGLGLYVMFAVA\"\n",
    "seq2 = \"AADVSAAVGATGQSGMTYRLGLSWDWDKSWWQTSTGRLTGYWDAGYTYWEGGDEGAGKHSLSFAPVFVYEFAGDSIKPFIEAGIGVAAFSGTRVGDQNLGSSLNFEDRIGAGLKFANGQSVGVRAIHYSNAGLKQPNDGIESYSLFYKIPI\"\n",
    "seq3 = \"MALLPAAPGAPARATPTRWPVGCFNRPWTKWSYDEALDGIKAAGYAWTGLLTASKPSLHHATATPEYLAALKQKSRHAA\"\n",
    "\n",
    "distances = pd.DataFrame({\"Hamming Distance\":[hamming(seq1,seq2),hamming(seq1,seq3),hamming(seq2,seq3)],\n",
    "             \"Euclidean Distance\":[euclidean(seq1,seq2),euclidean(seq1,seq3),euclidean(seq2,seq3)]})\n",
    "distances.index = [\"1 and 2\",\"1 and 3\",\"2 and 3\"]\n",
    "\n",
    "print(distances)\n",
    "print(\"\")\n",
    "\n",
    "print(f\"Based on Hamming distance, sequences {distances[distances.columns[0]].idxmin()} are the closest.\")\n",
    "print(f\"Based on Euclidean distance, sequences {distances[distances.columns[1]].idxmin()} are the closest.\")"
   ]
  },
  {
   "cell_type": "code",
   "execution_count": null,
   "id": "33ed5db3",
   "metadata": {},
   "outputs": [],
   "source": []
  }
 ],
 "metadata": {
  "kernelspec": {
   "display_name": "Python 3",
   "language": "python",
   "name": "python3"
  },
  "language_info": {
   "codemirror_mode": {
    "name": "ipython",
    "version": 3
   },
   "file_extension": ".py",
   "mimetype": "text/x-python",
   "name": "python",
   "nbconvert_exporter": "python",
   "pygments_lexer": "ipython3",
   "version": "3.8.8"
  }
 },
 "nbformat": 4,
 "nbformat_minor": 5
}
