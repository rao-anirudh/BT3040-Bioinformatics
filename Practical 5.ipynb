{
 "cells": [
  {
   "cell_type": "markdown",
   "id": "e6230fdb",
   "metadata": {},
   "source": [
    "# Pentapeptides"
   ]
  },
  {
   "cell_type": "code",
   "execution_count": 1,
   "id": "1526363a",
   "metadata": {},
   "outputs": [
    {
     "name": "stdout",
     "output_type": "stream",
     "text": [
      "LWGKV occurs 2 time(s) in both peptides (1 time(s) in Seq. 1 and 1 time(s) in Seq. 2)\n",
      "WGKVN occurs 2 time(s) in both peptides (1 time(s) in Seq. 1 and 1 time(s) in Seq. 2)\n",
      "GKVNV occurs 2 time(s) in both peptides (1 time(s) in Seq. 1 and 1 time(s) in Seq. 2)\n",
      "VYPWT occurs 2 time(s) in both peptides (1 time(s) in Seq. 1 and 1 time(s) in Seq. 2)\n",
      "YPWTQ occurs 2 time(s) in both peptides (1 time(s) in Seq. 1 and 1 time(s) in Seq. 2)\n",
      "PWTQR occurs 2 time(s) in both peptides (1 time(s) in Seq. 1 and 1 time(s) in Seq. 2)\n",
      "WTQRF occurs 2 time(s) in both peptides (1 time(s) in Seq. 1 and 1 time(s) in Seq. 2)\n",
      "TQRFF occurs 2 time(s) in both peptides (1 time(s) in Seq. 1 and 1 time(s) in Seq. 2)\n",
      "AHGKK occurs 2 time(s) in both peptides (1 time(s) in Seq. 1 and 1 time(s) in Seq. 2)\n",
      "HGKKV occurs 2 time(s) in both peptides (1 time(s) in Seq. 1 and 1 time(s) in Seq. 2)\n",
      "GKKVL occurs 2 time(s) in both peptides (1 time(s) in Seq. 1 and 1 time(s) in Seq. 2)\n",
      "LSELH occurs 2 time(s) in both peptides (1 time(s) in Seq. 1 and 1 time(s) in Seq. 2)\n",
      "SELHC occurs 2 time(s) in both peptides (1 time(s) in Seq. 1 and 1 time(s) in Seq. 2)\n",
      "ELHCD occurs 2 time(s) in both peptides (1 time(s) in Seq. 1 and 1 time(s) in Seq. 2)\n",
      "LHCDK occurs 2 time(s) in both peptides (1 time(s) in Seq. 1 and 1 time(s) in Seq. 2)\n",
      "HCDKL occurs 2 time(s) in both peptides (1 time(s) in Seq. 1 and 1 time(s) in Seq. 2)\n",
      "CDKLH occurs 2 time(s) in both peptides (1 time(s) in Seq. 1 and 1 time(s) in Seq. 2)\n",
      "DKLHV occurs 2 time(s) in both peptides (1 time(s) in Seq. 1 and 1 time(s) in Seq. 2)\n",
      "KLHVD occurs 2 time(s) in both peptides (1 time(s) in Seq. 1 and 1 time(s) in Seq. 2)\n",
      "LHVDP occurs 2 time(s) in both peptides (1 time(s) in Seq. 1 and 1 time(s) in Seq. 2)\n",
      "HVDPE occurs 2 time(s) in both peptides (1 time(s) in Seq. 1 and 1 time(s) in Seq. 2)\n",
      "VDPEN occurs 2 time(s) in both peptides (1 time(s) in Seq. 1 and 1 time(s) in Seq. 2)\n",
      "DPENF occurs 2 time(s) in both peptides (1 time(s) in Seq. 1 and 1 time(s) in Seq. 2)\n",
      "PENFR occurs 2 time(s) in both peptides (1 time(s) in Seq. 1 and 1 time(s) in Seq. 2)\n",
      "ENFRL occurs 2 time(s) in both peptides (1 time(s) in Seq. 1 and 1 time(s) in Seq. 2)\n",
      "NFRLL occurs 2 time(s) in both peptides (1 time(s) in Seq. 1 and 1 time(s) in Seq. 2)\n",
      "FRLLG occurs 2 time(s) in both peptides (1 time(s) in Seq. 1 and 1 time(s) in Seq. 2)\n"
     ]
    }
   ],
   "source": [
    "def find_pentapeptides(seq1,seq2):\n",
    "    \n",
    "    seq1_pentapeptides = {}\n",
    "    \n",
    "    for i in range(len(seq1)-5+1):\n",
    "        pentapeptide = seq1[i:i+5]\n",
    "        if pentapeptide not in seq1_pentapeptides.keys():\n",
    "            seq1_pentapeptides[pentapeptide] = 1\n",
    "        else:\n",
    "            seq1_pentapeptides[pentapeptide] += 1\n",
    "    \n",
    "    matched_pentapeptides = {}\n",
    "    for i in range(len(seq2)-5+1):\n",
    "        pentapeptide = seq2[i:i+5]\n",
    "        if pentapeptide in seq1_pentapeptides.keys():\n",
    "            if pentapeptide not in matched_pentapeptides.keys():\n",
    "                matched_pentapeptides[pentapeptide] = seq1_pentapeptides[pentapeptide] + 1\n",
    "            else:\n",
    "                matched_pentapeptides[pentapeptide] += 1\n",
    "    \n",
    "    for pentapeptide, frequency in matched_pentapeptides.items():\n",
    "        print(f\"{pentapeptide} occurs {frequency} time(s) in both peptides ({seq1_pentapeptides[pentapeptide]} time(s) in Seq. 1 and {frequency - seq1_pentapeptides[pentapeptide]} time(s) in Seq. 2)\")\n",
    "\n",
    "        \n",
    "human = \"MVHLTPEEKSAVTALWGKVNVDEVGGEALGRLLVVYPWTQRFFESFGDLSTPDAVMGNPKVKAHGKKVLGAFSDGLAHLDNLKGTFATLSELHCDKLHVDPENFRLLGNVLVCVLAHHFGKEFTPPVQAAYQKVVAGVANALAHKYH\"\n",
    "chicken = \"MVHWTAEEKQLITGLWGKVNVAECGAEALARLLIVYPWTQRFFASFGNLSSPTAILGNPMVRAHGKKVLTSFGDAVKNLDNIKNTFSQLSELHCDKLHVDPENFRLLGDILIIVLAAHFSKDFTPECQAAWQKLVRVVAHALARKYH\" \n",
    "find_pentapeptides(human,chicken)"
   ]
  },
  {
   "cell_type": "markdown",
   "id": "eb5de663",
   "metadata": {},
   "source": [
    "# Alignment Statistics"
   ]
  },
  {
   "cell_type": "code",
   "execution_count": 2,
   "id": "a1d0b5a5",
   "metadata": {},
   "outputs": [
    {
     "name": "stdout",
     "output_type": "stream",
     "text": [
      "The sequence identity is 69.39%.\n",
      "The sequence similarity is 82.31%.\n",
      "The query coverage is 100.00%.\n",
      "The gap percentage is 0.00%.\n"
     ]
    }
   ],
   "source": [
    "def alignment_statistics(seq1,seq2,align):\n",
    "    \n",
    "    identity = 0\n",
    "    similarity = 0\n",
    "    gaps = 0\n",
    "    \n",
    "    for char in align:\n",
    "        \n",
    "        if char.isalpha():\n",
    "            identity += 1\n",
    "            similarity += 1\n",
    "        if char == \"+\":\n",
    "            similarity += 1\n",
    "        if char == \"-\":\n",
    "            gaps += 1\n",
    "    \n",
    "    alignment_identity = 100 * identity / len(align)\n",
    "    alignment_similarity = 100 * similarity / len(align)\n",
    "    query_coverage = 100 * len(align) / len(seq2)\n",
    "    gap_percentage = 100 * gaps / len(align)\n",
    "    \n",
    "    print(f\"The sequence identity is {alignment_identity:.2f}%.\")\n",
    "    print(f\"The sequence similarity is {alignment_similarity:.2f}%.\")\n",
    "    print(f\"The query coverage is {query_coverage:.2f}%.\")\n",
    "    print(f\"The gap percentage is {gap_percentage:.2f}%.\")\n",
    "\n",
    "    \n",
    "human = \"MVHLTPEEKSAVTALWGKVNVDEVGGEALGRLLVVYPWTQRFFESFGDLSTPDAVMGNPKVKAHGKKVLGAFSDGLAHLDNLKGTFATLSELHCDKLHVDPENFRLLGNVLVCVLAHHFGKEFTPPVQAAYQKVVAGVANALAHKYH\"\n",
    "chicken = \"MVHWTAEEKQLITGLWGKVNVAECGAEALARLLIVYPWTQRFFASFGNLSSPTAILGNPMVRAHGKKVLTSFGDAVKNLDNIKNTFSQLSELHCDKLHVDPENFRLLGDILIIVLAAHFSKDFTPECQAAWQKLVRVVAHALARKYH\"\n",
    "alignment = \"MVH T EEK  +T LWGKVNV E G EAL RLL+VYPWTQRFF SFG+LS+P A++GNP V+AHGKKVL +F D + +LDN+K TF+ LSELHCDKLHVDPENFRLLG++L+ VLA HF K+FTP  QAA+QK+V  VA+ALA KYH\"\n",
    "\n",
    "alignment_statistics(human,chicken,alignment)"
   ]
  }
 ],
 "metadata": {
  "kernelspec": {
   "display_name": "Python 3",
   "language": "python",
   "name": "python3"
  },
  "language_info": {
   "codemirror_mode": {
    "name": "ipython",
    "version": 3
   },
   "file_extension": ".py",
   "mimetype": "text/x-python",
   "name": "python",
   "nbconvert_exporter": "python",
   "pygments_lexer": "ipython3",
   "version": "3.8.8"
  }
 },
 "nbformat": 4,
 "nbformat_minor": 5
}
